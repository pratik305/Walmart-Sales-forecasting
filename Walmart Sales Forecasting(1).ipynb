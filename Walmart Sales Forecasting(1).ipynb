{
 "cells": [
  {
   "cell_type": "code",
   "execution_count": 1,
   "id": "62091829",
   "metadata": {},
   "outputs": [],
   "source": [
    "import numpy as np\n",
    "import pandas as pd\n",
    "\n",
    "import matplotlib.pyplot as plt\n",
    "import seaborn as sns\n",
    "\n",
    "from scipy import stats\n",
    "from sklearn import metrics\n",
    "import pickle \n",
    "from os import path\n",
    "from sklearn.preprocessing import StandardScaler\n",
    "from sklearn.preprocessing import MinMaxScaler\n",
    "from sklearn.model_selection import train_test_split\n",
    "from sklearn.linear_model import LinearRegression"
   ]
  },
  {
   "cell_type": "code",
   "execution_count": 2,
   "id": "b8c0352f",
   "metadata": {},
   "outputs": [
    {
     "ename": "FileNotFoundError",
     "evalue": "[Errno 2] No such file or directory: 'train.csv'",
     "output_type": "error",
     "traceback": [
      "\u001b[1;31m---------------------------------------------------------------------------\u001b[0m",
      "\u001b[1;31mFileNotFoundError\u001b[0m                         Traceback (most recent call last)",
      "\u001b[1;32m~\\AppData\\Local\\Temp\\ipykernel_11828\\3766096806.py\u001b[0m in \u001b[0;36m<module>\u001b[1;34m\u001b[0m\n\u001b[1;32m----> 1\u001b[1;33m \u001b[0mdata\u001b[0m \u001b[1;33m=\u001b[0m \u001b[0mpd\u001b[0m\u001b[1;33m.\u001b[0m\u001b[0mread_csv\u001b[0m\u001b[1;33m(\u001b[0m\u001b[1;34m'train.csv'\u001b[0m\u001b[1;33m)\u001b[0m\u001b[1;33m\u001b[0m\u001b[1;33m\u001b[0m\u001b[0m\n\u001b[0m\u001b[0;32m      2\u001b[0m \u001b[0mstores\u001b[0m \u001b[1;33m=\u001b[0m \u001b[0mpd\u001b[0m\u001b[1;33m.\u001b[0m\u001b[0mread_csv\u001b[0m\u001b[1;33m(\u001b[0m\u001b[1;34m'stores.csv'\u001b[0m\u001b[1;33m)\u001b[0m\u001b[1;33m\u001b[0m\u001b[1;33m\u001b[0m\u001b[0m\n\u001b[0;32m      3\u001b[0m \u001b[0mfeatures\u001b[0m \u001b[1;33m=\u001b[0m \u001b[0mpd\u001b[0m\u001b[1;33m.\u001b[0m\u001b[0mread_csv\u001b[0m\u001b[1;33m(\u001b[0m\u001b[1;34m'features.csv'\u001b[0m\u001b[1;33m)\u001b[0m\u001b[1;33m\u001b[0m\u001b[1;33m\u001b[0m\u001b[0m\n",
      "\u001b[1;32m~\\anaconda3\\lib\\site-packages\\pandas\\util\\_decorators.py\u001b[0m in \u001b[0;36mwrapper\u001b[1;34m(*args, **kwargs)\u001b[0m\n\u001b[0;32m    309\u001b[0m                     \u001b[0mstacklevel\u001b[0m\u001b[1;33m=\u001b[0m\u001b[0mstacklevel\u001b[0m\u001b[1;33m,\u001b[0m\u001b[1;33m\u001b[0m\u001b[1;33m\u001b[0m\u001b[0m\n\u001b[0;32m    310\u001b[0m                 )\n\u001b[1;32m--> 311\u001b[1;33m             \u001b[1;32mreturn\u001b[0m \u001b[0mfunc\u001b[0m\u001b[1;33m(\u001b[0m\u001b[1;33m*\u001b[0m\u001b[0margs\u001b[0m\u001b[1;33m,\u001b[0m \u001b[1;33m**\u001b[0m\u001b[0mkwargs\u001b[0m\u001b[1;33m)\u001b[0m\u001b[1;33m\u001b[0m\u001b[1;33m\u001b[0m\u001b[0m\n\u001b[0m\u001b[0;32m    312\u001b[0m \u001b[1;33m\u001b[0m\u001b[0m\n\u001b[0;32m    313\u001b[0m         \u001b[1;32mreturn\u001b[0m \u001b[0mwrapper\u001b[0m\u001b[1;33m\u001b[0m\u001b[1;33m\u001b[0m\u001b[0m\n",
      "\u001b[1;32m~\\anaconda3\\lib\\site-packages\\pandas\\io\\parsers\\readers.py\u001b[0m in \u001b[0;36mread_csv\u001b[1;34m(filepath_or_buffer, sep, delimiter, header, names, index_col, usecols, squeeze, prefix, mangle_dupe_cols, dtype, engine, converters, true_values, false_values, skipinitialspace, skiprows, skipfooter, nrows, na_values, keep_default_na, na_filter, verbose, skip_blank_lines, parse_dates, infer_datetime_format, keep_date_col, date_parser, dayfirst, cache_dates, iterator, chunksize, compression, thousands, decimal, lineterminator, quotechar, quoting, doublequote, escapechar, comment, encoding, encoding_errors, dialect, error_bad_lines, warn_bad_lines, on_bad_lines, delim_whitespace, low_memory, memory_map, float_precision, storage_options)\u001b[0m\n\u001b[0;32m    676\u001b[0m     \u001b[0mkwds\u001b[0m\u001b[1;33m.\u001b[0m\u001b[0mupdate\u001b[0m\u001b[1;33m(\u001b[0m\u001b[0mkwds_defaults\u001b[0m\u001b[1;33m)\u001b[0m\u001b[1;33m\u001b[0m\u001b[1;33m\u001b[0m\u001b[0m\n\u001b[0;32m    677\u001b[0m \u001b[1;33m\u001b[0m\u001b[0m\n\u001b[1;32m--> 678\u001b[1;33m     \u001b[1;32mreturn\u001b[0m \u001b[0m_read\u001b[0m\u001b[1;33m(\u001b[0m\u001b[0mfilepath_or_buffer\u001b[0m\u001b[1;33m,\u001b[0m \u001b[0mkwds\u001b[0m\u001b[1;33m)\u001b[0m\u001b[1;33m\u001b[0m\u001b[1;33m\u001b[0m\u001b[0m\n\u001b[0m\u001b[0;32m    679\u001b[0m \u001b[1;33m\u001b[0m\u001b[0m\n\u001b[0;32m    680\u001b[0m \u001b[1;33m\u001b[0m\u001b[0m\n",
      "\u001b[1;32m~\\anaconda3\\lib\\site-packages\\pandas\\io\\parsers\\readers.py\u001b[0m in \u001b[0;36m_read\u001b[1;34m(filepath_or_buffer, kwds)\u001b[0m\n\u001b[0;32m    573\u001b[0m \u001b[1;33m\u001b[0m\u001b[0m\n\u001b[0;32m    574\u001b[0m     \u001b[1;31m# Create the parser.\u001b[0m\u001b[1;33m\u001b[0m\u001b[1;33m\u001b[0m\u001b[0m\n\u001b[1;32m--> 575\u001b[1;33m     \u001b[0mparser\u001b[0m \u001b[1;33m=\u001b[0m \u001b[0mTextFileReader\u001b[0m\u001b[1;33m(\u001b[0m\u001b[0mfilepath_or_buffer\u001b[0m\u001b[1;33m,\u001b[0m \u001b[1;33m**\u001b[0m\u001b[0mkwds\u001b[0m\u001b[1;33m)\u001b[0m\u001b[1;33m\u001b[0m\u001b[1;33m\u001b[0m\u001b[0m\n\u001b[0m\u001b[0;32m    576\u001b[0m \u001b[1;33m\u001b[0m\u001b[0m\n\u001b[0;32m    577\u001b[0m     \u001b[1;32mif\u001b[0m \u001b[0mchunksize\u001b[0m \u001b[1;32mor\u001b[0m \u001b[0miterator\u001b[0m\u001b[1;33m:\u001b[0m\u001b[1;33m\u001b[0m\u001b[1;33m\u001b[0m\u001b[0m\n",
      "\u001b[1;32m~\\anaconda3\\lib\\site-packages\\pandas\\io\\parsers\\readers.py\u001b[0m in \u001b[0;36m__init__\u001b[1;34m(self, f, engine, **kwds)\u001b[0m\n\u001b[0;32m    930\u001b[0m \u001b[1;33m\u001b[0m\u001b[0m\n\u001b[0;32m    931\u001b[0m         \u001b[0mself\u001b[0m\u001b[1;33m.\u001b[0m\u001b[0mhandles\u001b[0m\u001b[1;33m:\u001b[0m \u001b[0mIOHandles\u001b[0m \u001b[1;33m|\u001b[0m \u001b[1;32mNone\u001b[0m \u001b[1;33m=\u001b[0m \u001b[1;32mNone\u001b[0m\u001b[1;33m\u001b[0m\u001b[1;33m\u001b[0m\u001b[0m\n\u001b[1;32m--> 932\u001b[1;33m         \u001b[0mself\u001b[0m\u001b[1;33m.\u001b[0m\u001b[0m_engine\u001b[0m \u001b[1;33m=\u001b[0m \u001b[0mself\u001b[0m\u001b[1;33m.\u001b[0m\u001b[0m_make_engine\u001b[0m\u001b[1;33m(\u001b[0m\u001b[0mf\u001b[0m\u001b[1;33m,\u001b[0m \u001b[0mself\u001b[0m\u001b[1;33m.\u001b[0m\u001b[0mengine\u001b[0m\u001b[1;33m)\u001b[0m\u001b[1;33m\u001b[0m\u001b[1;33m\u001b[0m\u001b[0m\n\u001b[0m\u001b[0;32m    933\u001b[0m \u001b[1;33m\u001b[0m\u001b[0m\n\u001b[0;32m    934\u001b[0m     \u001b[1;32mdef\u001b[0m \u001b[0mclose\u001b[0m\u001b[1;33m(\u001b[0m\u001b[0mself\u001b[0m\u001b[1;33m)\u001b[0m\u001b[1;33m:\u001b[0m\u001b[1;33m\u001b[0m\u001b[1;33m\u001b[0m\u001b[0m\n",
      "\u001b[1;32m~\\anaconda3\\lib\\site-packages\\pandas\\io\\parsers\\readers.py\u001b[0m in \u001b[0;36m_make_engine\u001b[1;34m(self, f, engine)\u001b[0m\n\u001b[0;32m   1214\u001b[0m             \u001b[1;31m# \"Union[str, PathLike[str], ReadCsvBuffer[bytes], ReadCsvBuffer[str]]\"\u001b[0m\u001b[1;33m\u001b[0m\u001b[1;33m\u001b[0m\u001b[0m\n\u001b[0;32m   1215\u001b[0m             \u001b[1;31m# , \"str\", \"bool\", \"Any\", \"Any\", \"Any\", \"Any\", \"Any\"\u001b[0m\u001b[1;33m\u001b[0m\u001b[1;33m\u001b[0m\u001b[0m\n\u001b[1;32m-> 1216\u001b[1;33m             self.handles = get_handle(  # type: ignore[call-overload]\n\u001b[0m\u001b[0;32m   1217\u001b[0m                 \u001b[0mf\u001b[0m\u001b[1;33m,\u001b[0m\u001b[1;33m\u001b[0m\u001b[1;33m\u001b[0m\u001b[0m\n\u001b[0;32m   1218\u001b[0m                 \u001b[0mmode\u001b[0m\u001b[1;33m,\u001b[0m\u001b[1;33m\u001b[0m\u001b[1;33m\u001b[0m\u001b[0m\n",
      "\u001b[1;32m~\\anaconda3\\lib\\site-packages\\pandas\\io\\common.py\u001b[0m in \u001b[0;36mget_handle\u001b[1;34m(path_or_buf, mode, encoding, compression, memory_map, is_text, errors, storage_options)\u001b[0m\n\u001b[0;32m    784\u001b[0m         \u001b[1;32mif\u001b[0m \u001b[0mioargs\u001b[0m\u001b[1;33m.\u001b[0m\u001b[0mencoding\u001b[0m \u001b[1;32mand\u001b[0m \u001b[1;34m\"b\"\u001b[0m \u001b[1;32mnot\u001b[0m \u001b[1;32min\u001b[0m \u001b[0mioargs\u001b[0m\u001b[1;33m.\u001b[0m\u001b[0mmode\u001b[0m\u001b[1;33m:\u001b[0m\u001b[1;33m\u001b[0m\u001b[1;33m\u001b[0m\u001b[0m\n\u001b[0;32m    785\u001b[0m             \u001b[1;31m# Encoding\u001b[0m\u001b[1;33m\u001b[0m\u001b[1;33m\u001b[0m\u001b[0m\n\u001b[1;32m--> 786\u001b[1;33m             handle = open(\n\u001b[0m\u001b[0;32m    787\u001b[0m                 \u001b[0mhandle\u001b[0m\u001b[1;33m,\u001b[0m\u001b[1;33m\u001b[0m\u001b[1;33m\u001b[0m\u001b[0m\n\u001b[0;32m    788\u001b[0m                 \u001b[0mioargs\u001b[0m\u001b[1;33m.\u001b[0m\u001b[0mmode\u001b[0m\u001b[1;33m,\u001b[0m\u001b[1;33m\u001b[0m\u001b[1;33m\u001b[0m\u001b[0m\n",
      "\u001b[1;31mFileNotFoundError\u001b[0m: [Errno 2] No such file or directory: 'train.csv'"
     ]
    }
   ],
   "source": [
    "data = pd.read_csv('train.csv')\n",
    "stores = pd.read_csv('stores.csv')\n",
    "features = pd.read_csv('features.csv')"
   ]
  },
  {
   "cell_type": "code",
   "execution_count": null,
   "id": "766fcca8",
   "metadata": {},
   "outputs": [],
   "source": [
    "data.shape"
   ]
  },
  {
   "cell_type": "code",
   "execution_count": null,
   "id": "cd9083bc",
   "metadata": {},
   "outputs": [],
   "source": [
    "data.tail()\n"
   ]
  },
  {
   "cell_type": "code",
   "execution_count": null,
   "id": "1dfd1cc9",
   "metadata": {},
   "outputs": [],
   "source": [
    "data.info()"
   ]
  },
  {
   "cell_type": "code",
   "execution_count": null,
   "id": "ab49440f",
   "metadata": {},
   "outputs": [],
   "source": [
    "stores.shape"
   ]
  },
  {
   "cell_type": "code",
   "execution_count": null,
   "id": "ce8a91f4",
   "metadata": {},
   "outputs": [],
   "source": [
    "stores.tail()"
   ]
  },
  {
   "cell_type": "code",
   "execution_count": null,
   "id": "0b2c10d4",
   "metadata": {},
   "outputs": [],
   "source": [
    "stores.info()"
   ]
  },
  {
   "cell_type": "code",
   "execution_count": null,
   "id": "1d750a01",
   "metadata": {},
   "outputs": [],
   "source": [
    "features.shape"
   ]
  },
  {
   "cell_type": "code",
   "execution_count": null,
   "id": "ff994bd8",
   "metadata": {},
   "outputs": [],
   "source": [
    "features.tail()"
   ]
  },
  {
   "cell_type": "code",
   "execution_count": null,
   "id": "5a75125f",
   "metadata": {},
   "outputs": [],
   "source": [
    "features.info()"
   ]
  },
  {
   "cell_type": "markdown",
   "id": "c8eecbaa",
   "metadata": {},
   "source": [
    "# Handling Missing Values of Features Dataset"
   ]
  },
  {
   "cell_type": "code",
   "execution_count": null,
   "id": "864d057c",
   "metadata": {},
   "outputs": [],
   "source": [
    "features['CPI'].fillna(features['CPI'].median(), inplace=True)\n",
    "features['Unemployment'].fillna(features['Unemployment'].median(), inplace=True)"
   ]
  },
  {
   "cell_type": "code",
   "execution_count": null,
   "id": "b8597644",
   "metadata": {},
   "outputs": [],
   "source": [
    "for i in range(1, 6):\n",
    "    features['MarkDown'+str(i)] = features['MarkDown'+str(i)].apply(lambda x: 0 if x < 0 else x)\n",
    "    features['MarkDown'+str(i)].fillna(value=0, inplace=True)"
   ]
  },
  {
   "cell_type": "code",
   "execution_count": null,
   "id": "9baa5a6f",
   "metadata": {},
   "outputs": [],
   "source": [
    "features.info()"
   ]
  },
  {
   "cell_type": "markdown",
   "id": "8cd2a18c",
   "metadata": {},
   "source": [
    "# Merging Train, Stores & Features Dataset"
   ]
  },
  {
   "cell_type": "code",
   "execution_count": null,
   "id": "07ceba01",
   "metadata": {},
   "outputs": [],
   "source": [
    "data = pd.merge(data, stores, on='Store', how='left')"
   ]
  },
  {
   "cell_type": "code",
   "execution_count": null,
   "id": "c341fe58",
   "metadata": {},
   "outputs": [],
   "source": [
    "data = pd.merge(data, features, on=['Store','Date'], how='left')\n",
    "\n",
    "data['Date'] = pd.to_datetime(data['Date'])\n",
    "\n",
    "data.sort_values(by=['Date'], inplace=True)\n",
    "\n",
    "data.set_index(data.Date, inplace=True)"
   ]
  },
  {
   "cell_type": "code",
   "execution_count": null,
   "id": "c56cf3ed",
   "metadata": {},
   "outputs": [],
   "source": [
    "data.head()"
   ]
  },
  {
   "cell_type": "code",
   "execution_count": null,
   "id": "3106b991",
   "metadata": {},
   "outputs": [],
   "source": [
    "data['IsHoliday_x'].isin(data['IsHoliday_y']).all()"
   ]
  },
  {
   "cell_type": "code",
   "execution_count": null,
   "id": "e5bc2d9d",
   "metadata": {},
   "outputs": [],
   "source": [
    "data.drop(columns='IsHoliday_x',inplace=True)\n",
    "data.rename(columns={\"IsHoliday_y\" : \"IsHoliday\"}, inplace=True)\n",
    "data.info()"
   ]
  },
  {
   "cell_type": "code",
   "execution_count": null,
   "id": "02528dd7",
   "metadata": {},
   "outputs": [],
   "source": [
    "data.head()"
   ]
  },
  {
   "cell_type": "markdown",
   "id": "cab40a46",
   "metadata": {},
   "source": [
    "# Splitting Date Column"
   ]
  },
  {
   "cell_type": "code",
   "execution_count": null,
   "id": "515f4fca",
   "metadata": {},
   "outputs": [],
   "source": [
    "data['Year'] = data['Date'].dt.year\n",
    "data['Month'] = data['Date'].dt.month\n",
    "data['Day'] = data['Date'].dt.day"
   ]
  },
  {
   "cell_type": "code",
   "execution_count": null,
   "id": "f5369433",
   "metadata": {},
   "outputs": [],
   "source": [
    "data.head()"
   ]
  },
  {
   "cell_type": "markdown",
   "id": "4bf4ece8",
   "metadata": {},
   "source": [
    "# Otlier Detection & Abnormalities"
   ]
  },
  {
   "cell_type": "code",
   "execution_count": null,
   "id": "2955cbaa",
   "metadata": {},
   "outputs": [],
   "source": [
    "agg_data = data.groupby(['Store', 'Dept']).Weekly_Sales.agg(['max','min','mean','median','std']).reset_index()\n",
    "agg_data"
   ]
  },
  {
   "cell_type": "code",
   "execution_count": null,
   "id": "7a24718e",
   "metadata": {},
   "outputs": [],
   "source": [
    "agg_data.isnull().sum()"
   ]
  },
  {
   "cell_type": "code",
   "execution_count": null,
   "id": "b628bb69",
   "metadata": {},
   "outputs": [],
   "source": [
    "store_data = pd.merge(left=data, right=agg_data, on=['Store', 'Dept'], how='left')\n",
    "store_data.dropna(inplace=True)\n",
    "data = store_data.copy()\n",
    "del store_data"
   ]
  },
  {
   "cell_type": "code",
   "execution_count": null,
   "id": "82ab5d37",
   "metadata": {},
   "outputs": [],
   "source": [
    "data['Date'] = pd.to_datetime(data['Date'])\n",
    "data.sort_values(by=['Date'], inplace=True)\n",
    "data.set_index(data.Date, inplace=True)\n",
    "data.head()"
   ]
  },
  {
   "cell_type": "code",
   "execution_count": null,
   "id": "a572e55a",
   "metadata": {},
   "outputs": [],
   "source": [
    "data['Total_MarkDown'] = data['MarkDown1'] + data['MarkDown2'] + data['MarkDown3'] + data['MarkDown4'] + data['MarkDown5']\n",
    "data.drop(['MarkDown1','MarkDown2','MarkDown3','MarkDown4','MarkDown5'], axis=1, inplace=True)"
   ]
  },
  {
   "cell_type": "code",
   "execution_count": null,
   "id": "5a848457",
   "metadata": {},
   "outputs": [],
   "source": [
    "numeric_col = ['Weekly_Sales','Size','Temperature','Fuel_Price','CPI','Unemployment','Total_MarkDown']\n",
    "data_numeric = data[numeric_col].copy()"
   ]
  },
  {
   "cell_type": "code",
   "execution_count": null,
   "id": "f04afcba",
   "metadata": {},
   "outputs": [],
   "source": [
    "data.shape"
   ]
  },
  {
   "cell_type": "code",
   "execution_count": null,
   "id": "bdde2be2",
   "metadata": {},
   "outputs": [],
   "source": [
    "data = data[(np.abs(stats.zscore(data_numeric)) < 2.5).all(axis=1)]\n",
    "data.shape"
   ]
  },
  {
   "cell_type": "code",
   "execution_count": null,
   "id": "105a40f9",
   "metadata": {},
   "outputs": [],
   "source": [
    "# Negative Weekly Sales\n",
    "\n",
    "y = data['Weekly_Sales'][data.Weekly_Sales < 0]\n",
    "sns.displot(y, height=6, aspect=2)\n",
    "plt.title(\"Negative Weekly Sales\", fontsize=14);"
   ]
  },
  {
   "cell_type": "code",
   "execution_count": null,
   "id": "fc661f8e",
   "metadata": {},
   "outputs": [],
   "source": [
    "data = data[data[\"Weekly_Sales\"] >= 0]"
   ]
  },
  {
   "cell_type": "code",
   "execution_count": null,
   "id": "b81929ba",
   "metadata": {},
   "outputs": [],
   "source": [
    "data.shape"
   ]
  },
  {
   "cell_type": "code",
   "execution_count": null,
   "id": "f72a00ed",
   "metadata": {},
   "outputs": [],
   "source": [
    "data['IsHoliday'] = data['IsHoliday'].astype('int')"
   ]
  },
  {
   "cell_type": "code",
   "execution_count": null,
   "id": "19a2e1d7",
   "metadata": {},
   "outputs": [],
   "source": [
    "data.info()"
   ]
  },
  {
   "cell_type": "code",
   "execution_count": null,
   "id": "01281dc1",
   "metadata": {},
   "outputs": [],
   "source": [
    "data.to_csv('walmart_dataset.csv')"
   ]
  },
  {
   "cell_type": "markdown",
   "id": "a227a971",
   "metadata": {},
   "source": [
    "# Data Visualization"
   ]
  },
  {
   "cell_type": "markdown",
   "id": "99be857d",
   "metadata": {},
   "source": [
    "Average Monthly Sales"
   ]
  },
  {
   "cell_type": "code",
   "execution_count": null,
   "id": "6c5c62d3",
   "metadata": {},
   "outputs": [],
   "source": [
    "plt.figure(figsize=(14, 8))\n",
    "sns.barplot(x=\"Month\", y=\"Weekly_Sales\", data=data)\n",
    "plt.xlabel(\"Months\", fontsize=14)\n",
    "plt.ylabel(\"Sales\", fontsize=14)\n",
    "plt.title(\"Average Monthly Sales\", fontsize=16)\n",
    "plt.grid();"
   ]
  },
  {
   "cell_type": "code",
   "execution_count": null,
   "id": "f06c8b3b",
   "metadata": {},
   "outputs": [],
   "source": [
    "data_monthly = pd.crosstab(data['Year'], data['Month'], values=data['Weekly_Sales'], aggfunc='sum')\n",
    "data_monthly"
   ]
  },
  {
   "cell_type": "code",
   "execution_count": null,
   "id": "5ba21912",
   "metadata": {},
   "outputs": [],
   "source": [
    "fig, axes = plt.subplots(3,4,figsize=(16,9))\n",
    "plt.suptitle('Monthly Sales for each Year', fontsize=18)\n",
    "k=1\n",
    "for i in range(3):\n",
    "    for j in range(4):\n",
    "      sns.lineplot(ax=axes[i,j],data=data_monthly[k])\n",
    "      plt.subplots_adjust(wspace=0.4,hspace=0.4)\n",
    "      plt.ylabel(k,fontsize=12)\n",
    "      plt.xlabel('Years',fontsize=12)\n",
    "      k+=1\n",
    "\n",
    "plt.show();"
   ]
  },
  {
   "cell_type": "markdown",
   "id": "1dff9863",
   "metadata": {},
   "source": [
    "# Average Weekly Sales Store wise"
   ]
  },
  {
   "cell_type": "code",
   "execution_count": null,
   "id": "58d4e402",
   "metadata": {},
   "outputs": [],
   "source": [
    "plt.figure(figsize=(20,10))\n",
    "sns.barplot(x='Store', y='Weekly_Sales', data=data)\n",
    "plt.grid()\n",
    "plt.title(\"Average Weekly Sales Store-wise\", fontsize=18)\n",
    "plt.xlabel(\"Store\", fontsize=16)\n",
    "plt.ylabel(\"Sales\", fontsize=16)\n",
    "plt.show();"
   ]
  },
  {
   "cell_type": "code",
   "execution_count": null,
   "id": "638ce6a1",
   "metadata": {},
   "outputs": [],
   "source": [
    "plt.figure(figsize=(20,10))\n",
    "sns.barplot(x='Dept', y='Weekly_Sales', data=data)\n",
    "plt.grid()\n",
    "plt.title(\"Average Sales per Department\", fontsize=18)\n",
    "plt.xlabel(\"Department\", fontsize=16)\n",
    "plt.ylabel(\"Sales\", fontsize=16)\n",
    "plt.show();"
   ]
  },
  {
   "cell_type": "markdown",
   "id": "9a890d9f",
   "metadata": {},
   "source": [
    "# Holiday Distribution"
   ]
  },
  {
   "cell_type": "code",
   "execution_count": null,
   "id": "c603f175",
   "metadata": {},
   "outputs": [],
   "source": [
    "plt.figure(figsize=(8,8))\n",
    "plt.pie(data['IsHoliday'].value_counts(), labels=['No Holiday', 'Holiday'], autopct='%0.2f%%')\n",
    "plt.title(\"Pie Chart Distribution of holiday\", fontsize=15)\n",
    "plt.legend()\n",
    "plt.show();"
   ]
  },
  {
   "cell_type": "markdown",
   "id": "af5577a5",
   "metadata": {},
   "source": [
    "Encoding"
   ]
  },
  {
   "cell_type": "code",
   "execution_count": null,
   "id": "22830165",
   "metadata": {},
   "outputs": [],
   "source": [
    "cat_col = ['Type']\n",
    "data_cat = data[cat_col].copy()"
   ]
  },
  {
   "cell_type": "code",
   "execution_count": null,
   "id": "ea73166a",
   "metadata": {},
   "outputs": [],
   "source": [
    "data_cat.tail()"
   ]
  },
  {
   "cell_type": "code",
   "execution_count": null,
   "id": "bb9fc7c1",
   "metadata": {},
   "outputs": [],
   "source": [
    "data_cat = pd.get_dummies(data_cat, columns=cat_col)"
   ]
  },
  {
   "cell_type": "code",
   "execution_count": null,
   "id": "32b83e1c",
   "metadata": {},
   "outputs": [],
   "source": [
    "data_cat.head()"
   ]
  },
  {
   "cell_type": "code",
   "execution_count": null,
   "id": "6c14701b",
   "metadata": {},
   "outputs": [],
   "source": [
    "data.shape"
   ]
  },
  {
   "cell_type": "code",
   "execution_count": null,
   "id": "13a1175f",
   "metadata": {},
   "outputs": [],
   "source": [
    "data = pd.concat([data, data_cat], axis=1)"
   ]
  },
  {
   "cell_type": "code",
   "execution_count": null,
   "id": "29cafc17",
   "metadata": {},
   "outputs": [],
   "source": [
    "data.shape"
   ]
  },
  {
   "cell_type": "code",
   "execution_count": null,
   "id": "61ec97e6",
   "metadata": {},
   "outputs": [],
   "source": [
    "data.drop(columns=cat_col, inplace=True)\n",
    "\n",
    "data.drop(columns=['Date'], inplace=True)"
   ]
  },
  {
   "cell_type": "code",
   "execution_count": null,
   "id": "1a312753",
   "metadata": {},
   "outputs": [],
   "source": [
    "data.shape"
   ]
  },
  {
   "cell_type": "code",
   "execution_count": null,
   "id": "3574f3ee",
   "metadata": {},
   "outputs": [],
   "source": [
    "data.head()"
   ]
  },
  {
   "cell_type": "markdown",
   "id": "6891e24b",
   "metadata": {},
   "source": [
    "# Data Normalization"
   ]
  },
  {
   "cell_type": "code",
   "execution_count": null,
   "id": "46451552",
   "metadata": {},
   "outputs": [],
   "source": [
    "num_col = ['Weekly_Sales','Size','Temperature','Fuel_Price','CPI','Unemployment','Total_MarkDown','max','min','mean','median','std']"
   ]
  },
  {
   "cell_type": "code",
   "execution_count": null,
   "id": "dcc14f76",
   "metadata": {},
   "outputs": [],
   "source": [
    "minmax_scale = MinMaxScaler(feature_range=(0, 1))\n",
    "\n",
    "def normalization(df,col):\n",
    "    for i in col:\n",
    "        arr = df[i]\n",
    "        arr = np.array(arr)\n",
    "        df[i] = minmax_scale.fit_transform(arr.reshape(len(arr),1))\n",
    "    return df"
   ]
  },
  {
   "cell_type": "code",
   "execution_count": null,
   "id": "002ed9f9",
   "metadata": {},
   "outputs": [],
   "source": [
    "data = normalization(data.copy(),num_col)"
   ]
  },
  {
   "cell_type": "code",
   "execution_count": null,
   "id": "b58907d8",
   "metadata": {},
   "outputs": [],
   "source": [
    "data.head()"
   ]
  },
  {
   "cell_type": "markdown",
   "id": "9f608c04",
   "metadata": {},
   "source": [
    "# Correlation Matrix"
   ]
  },
  {
   "cell_type": "code",
   "execution_count": null,
   "id": "c29a7a4c",
   "metadata": {},
   "outputs": [],
   "source": [
    "plt.figure(figsize=(15,8))\n",
    "corr = data[num_col].corr()\n",
    "sns.heatmap(corr,vmax=1.0,annot=True)\n",
    "plt.title('Correlation Matrix',fontsize=16)\n",
    "plt.show()"
   ]
  },
  {
   "cell_type": "markdown",
   "id": "5c3148dc",
   "metadata": {},
   "source": [
    "# Split Dataset in train and test"
   ]
  },
  {
   "cell_type": "code",
   "execution_count": null,
   "id": "2cd87eef",
   "metadata": {},
   "outputs": [],
   "source": [
    "X = data.drop('Weekly_Sales', axis=1)\n",
    "y = data['Weekly_Sales']\n",
    "print(\"Shape of X:\", X.shape)\n",
    "print(\"Shape of y:\", y.shape)"
   ]
  },
  {
   "cell_type": "code",
   "execution_count": null,
   "id": "09d46866",
   "metadata": {},
   "outputs": [],
   "source": [
    "y.head()"
   ]
  },
  {
   "cell_type": "code",
   "execution_count": null,
   "id": "406d8ebc",
   "metadata": {},
   "outputs": [],
   "source": [
    "X.head()"
   ]
  },
  {
   "cell_type": "code",
   "execution_count": null,
   "id": "79c20517",
   "metadata": {},
   "outputs": [],
   "source": [
    "X_train, X_test, y_train, y_test = train_test_split(X, y, test_size=0.2, random_state=51)\n",
    "print(\"Shape of X_train:\", X_train.shape)\n",
    "print(\"Shape of y_train:\", y_train.shape)\n",
    "print(\"Shape of X_test:\", X_test.shape)\n",
    "print(\"Shape of y_test:\", y_test.shape)"
   ]
  },
  {
   "cell_type": "markdown",
   "id": "8ae0bc58",
   "metadata": {},
   "source": [
    "# Machine Learning Model Training"
   ]
  },
  {
   "cell_type": "code",
   "execution_count": null,
   "id": "db2d2b68",
   "metadata": {},
   "outputs": [],
   "source": [
    "sc = StandardScaler()\n",
    "X_train = sc.fit_transform(X_train)\n",
    "X_test = sc.transform(X_test)"
   ]
  },
  {
   "cell_type": "code",
   "execution_count": null,
   "id": "11e63655",
   "metadata": {},
   "outputs": [],
   "source": [
    "lr = LinearRegression()\n",
    "lr.fit(X_train, y_train)"
   ]
  },
  {
   "cell_type": "code",
   "execution_count": null,
   "id": "22f0f7fb",
   "metadata": {},
   "outputs": [],
   "source": [
    "lr_acc = lr.score(X_test,y_test)*100\n",
    "print(\"Linear Regressor Accuracy - \",lr_acc)"
   ]
  },
  {
   "cell_type": "code",
   "execution_count": null,
   "id": "16b92c15",
   "metadata": {},
   "outputs": [],
   "source": [
    "y_lr_pred = lr.predict(X_test)"
   ]
  },
  {
   "cell_type": "code",
   "execution_count": null,
   "id": "a66ffe62",
   "metadata": {},
   "outputs": [],
   "source": [
    "print(\"MAE\" , metrics.mean_absolute_error(y_test, y_lr_pred))\n",
    "print(\"MSE\" , metrics.mean_squared_error(y_test, y_lr_pred))\n",
    "print(\"RMSE\" , np.sqrt(metrics.mean_squared_error(y_test, y_lr_pred)))\n",
    "print(\"R2\" , metrics.explained_variance_score(y_test, y_lr_pred))"
   ]
  },
  {
   "cell_type": "code",
   "execution_count": null,
   "id": "df22e245",
   "metadata": {},
   "outputs": [],
   "source": [
    "lr_df = pd.DataFrame({'Actual': y_test, 'Predicted': y_lr_pred})\n",
    "lr_df"
   ]
  },
  {
   "cell_type": "code",
   "execution_count": null,
   "id": "2c73b42b",
   "metadata": {},
   "outputs": [],
   "source": [
    "plt.figure(figsize=(20,10))\n",
    "plt.plot(lr.predict(X_test[:200]), label=\"prediction\", linewidth=2.0,color='blue')\n",
    "plt.plot(y_test[:200].values, label=\"real_values\", linewidth=2.0,color='lightcoral')\n",
    "plt.legend(loc=\"best\")\n",
    "plt.show()"
   ]
  },
  {
   "cell_type": "code",
   "execution_count": null,
   "id": "f7e24524",
   "metadata": {},
   "outputs": [],
   "source": []
  }
 ],
 "metadata": {
  "kernelspec": {
   "display_name": "Python 3 (ipykernel)",
   "language": "python",
   "name": "python3"
  },
  "language_info": {
   "codemirror_mode": {
    "name": "ipython",
    "version": 3
   },
   "file_extension": ".py",
   "mimetype": "text/x-python",
   "name": "python",
   "nbconvert_exporter": "python",
   "pygments_lexer": "ipython3",
   "version": "3.9.13"
  }
 },
 "nbformat": 4,
 "nbformat_minor": 5
}
